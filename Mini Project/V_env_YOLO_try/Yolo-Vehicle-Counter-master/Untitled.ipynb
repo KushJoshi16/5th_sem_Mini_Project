{
 "cells": [
  {
   "cell_type": "code",
   "execution_count": 3,
   "id": "8ba69b21",
   "metadata": {},
   "outputs": [
    {
     "name": "stderr",
     "output_type": "stream",
     "text": [
      "Traceback (most recent call last):\n",
      "  File \"C:\\Users\\kushj\\Codes\\viren\\Mini Project\\V_env_YOLO_try\\Yolo-Vehicle-Counter-master\\yolo_video.py\", line 3, in <module>\n",
      "    import imutils\n",
      "ModuleNotFoundError: No module named 'imutils'\n"
     ]
    }
   ],
   "source": [
    "!python yolo_video.py --input inputVideos/bridge.mp4 --output outputVideos/bridgeOut.avi --yolo yolo-coco"
   ]
  },
  {
   "cell_type": "code",
   "execution_count": null,
   "id": "c5feca14",
   "metadata": {},
   "outputs": [],
   "source": []
  }
 ],
 "metadata": {
  "kernelspec": {
   "display_name": "yolo_env",
   "language": "python",
   "name": "yolo_env"
  },
  "language_info": {
   "codemirror_mode": {
    "name": "ipython",
    "version": 3
   },
   "file_extension": ".py",
   "mimetype": "text/x-python",
   "name": "python",
   "nbconvert_exporter": "python",
   "pygments_lexer": "ipython3",
   "version": "3.10.8"
  }
 },
 "nbformat": 4,
 "nbformat_minor": 5
}
